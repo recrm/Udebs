{
 "cells": [
  {
   "cell_type": "markdown",
   "metadata": {},
   "source": [
    "Udebs -- A discrete game analysis engine for python\n",
    "----"
   ]
  },
  {
   "cell_type": "markdown",
   "metadata": {},
   "source": [
    "Udebs is a game engine that reads in rules from an xml configuration enforces those rules in a single python class. \n",
    "The engine is useful for a number of purposes.\n",
    "\n",
    "1. Allowing a programmer to implement a game by focusing on it's rules and not how they should be enforced.\n",
    "2. Allows other programs to explore the state spaces of a game without worrying about entering illegal states.\n",
    "3. Allow easy modifications to the rules of a game without worrying about breaking the entire game.\n",
    "\n",
    "So let's work through an example by building a game of tic tac toe and see what udebs can do."
   ]
  },
  {
   "cell_type": "code",
   "execution_count": 1,
   "metadata": {},
   "outputs": [],
   "source": [
    "import udebs"
   ]
  },
  {
   "cell_type": "code",
   "execution_count": 2,
   "metadata": {},
   "outputs": [],
   "source": [
    "game_config = \"\"\"\n",
    "<udebs>\n",
    "    <config>\n",
    "        <logging>True</logging>\n",
    "    </config>\n",
    "\n",
    "    <entities>\n",
    "        <xplayer />\n",
    "        <oplayer />\n",
    "    </entities>\n",
    "</udebs>\n",
    "\"\"\""
   ]
  },
  {
   "cell_type": "code",
   "execution_count": 3,
   "metadata": {},
   "outputs": [
    {
     "name": "stdout",
     "output_type": "stream",
     "text": [
      "INITIALIZING Unknown\n",
      "Env time is now 0\n",
      "\n"
     ]
    }
   ],
   "source": [
    "game = udebs.battleStart(game_config)"
   ]
  },
  {
   "cell_type": "markdown",
   "metadata": {},
   "source": [
    "The above snippet of code is a minimal example of how to initiate a udebs game instance.\n",
    "\n",
    "We have created a game that contains two objects. The xplayer and the yplayer. Unfortunatly, neither of these objects can do anything yet, but we will fix that soon enough.\n",
    "\n",
    "As well, it's important to note that by default udebs logs every action the game engine takes. We can turn that off by setting logging to False in the configuration.\n",
    "\n",
    "Now let's actually build out a playable game."
   ]
  },
  {
   "cell_type": "markdown",
   "metadata": {},
   "source": [
    "Game One: Actions\n",
    "---"
   ]
  },
  {
   "cell_type": "code",
   "execution_count": 4,
   "metadata": {},
   "outputs": [],
   "source": [
    "game_config = \"\"\"\n",
    "<udebs>\n",
    "    <config>\n",
    "        <name>tictactoe</name>\n",
    "    </config>\n",
    "\n",
    "    <map>\n",
    "        <dim>\n",
    "            <x>3</x>\n",
    "            <y>3</y>\n",
    "        </dim>\n",
    "    </map>\n",
    "\n",
    "    <definitions>\n",
    "        <strings>\n",
    "            <token />\n",
    "        </strings>\n",
    "    </definitions>\n",
    "\n",
    "    <entities>\n",
    "        <x />\n",
    "        <o />\n",
    "\n",
    "        <xplayer>\n",
    "            <token>x</token>\n",
    "        </xplayer>\n",
    "\n",
    "        <oplayer>\n",
    "            <token>o</token>\n",
    "        </oplayer>\n",
    "\n",
    "        <placement>\n",
    "            <effect>($caster STAT token) RECRUIT $target</effect>\n",
    "        </placement>\n",
    "\n",
    "    </entities>\n",
    "</udebs>\n",
    "\"\"\""
   ]
  },
  {
   "cell_type": "code",
   "execution_count": 5,
   "metadata": {},
   "outputs": [
    {
     "name": "stdout",
     "output_type": "stream",
     "text": [
      "INITIALIZING tictactoe\n",
      "Env time is now 0\n",
      "\n",
      "xplayer uses placement on (1, 1, 'map')\n",
      "x1 has been recruited\n",
      "x1 has moved to (1, 1, 'map')\n",
      "\n",
      "oplayer uses placement on (0, 0, 'map')\n",
      "o1 has been recruited\n",
      "o1 has moved to (0, 0, 'map')\n",
      "\n",
      "o1 _  _  \n",
      "_  x1 _  \n",
      "_  _  _  \n"
     ]
    }
   ],
   "source": [
    "game = udebs.battleStart(game_config)\n",
    "\n",
    "game.castMove(\"xplayer\", (1,1), \"placement\")\n",
    "game.castMove(\"oplayer\", (0,0), \"placement\")\n",
    "\n",
    "game.printMap()"
   ]
  },
  {
   "cell_type": "markdown",
   "metadata": {},
   "source": [
    "So now we have added a few important elements to our game.\n",
    "\n",
    "The first is that we have defined a board that the game can be played on. The \"map\" attribute defines a 3 x 3 square grid that our game can be played on. Alternativly, we could define a hex grid by setting the type attribute on the map tag (\\<map type=\"hex\"\\>).\n",
    "\n",
    "Secondly we created an action that the players can perform: placement. An action is a udebs object that has an 'effect' attribute. Actions are usually initated by another udebs entity onto a third one. The castMove method is the primary way that actions are performed. This method takes three arguments, [ caster target action ]. The caster and target are stored in the caster and target variables respectivly and can be accessed in an actions effect.\n",
    "\n",
    "(udebs has two other methods for initiating actions. castInit and castAction. CastInit is used when the action just activates and there is no caster or target. CastAction is useful when there is a caster but no target.)\n",
    "\n",
    "\n",
    "Finally, we have also defined an attribute on the player objects. This attribute is a string that is simply a reference to another udebs object. In this case it is the token that each player places on the board."
   ]
  },
  {
   "cell_type": "markdown",
   "metadata": {},
   "source": [
    "Game Two: Time and requirements\n",
    "---"
   ]
  },
  {
   "cell_type": "markdown",
   "metadata": {},
   "source": [
    "Our game still has a bunch of problems. We currently do not enforce turn order, there is nothing stopping a player from playing in a non empty square, and we have no way of knowing when the game is finished and who won."
   ]
  },
  {
   "cell_type": "code",
   "execution_count": 6,
   "metadata": {},
   "outputs": [],
   "source": [
    "game_config = \"\"\"\n",
    "<udebs>\n",
    "    <config>\n",
    "        <name>tictactoe</name>\n",
    "    </config>\n",
    "\n",
    "    <map>\n",
    "        <dim>\n",
    "            <x>3</x>\n",
    "            <y>3</y>\n",
    "        </dim>\n",
    "    </map>\n",
    "\n",
    "    <definitions>\n",
    "        <strings>\n",
    "            <token />\n",
    "        </strings>\n",
    "        <stats>\n",
    "            <act />\n",
    "        </stats>\n",
    "    </definitions>\n",
    "\n",
    "    <entities>\n",
    "\n",
    "        <!-- tokens -->\n",
    "        <x />\n",
    "        <o />\n",
    "\n",
    "        <!-- players -->\n",
    "        <players />\n",
    "\n",
    "        <xplayer>\n",
    "            <group>players</group>\n",
    "            <token>x</token>\n",
    "            <act>2</act>\n",
    "        </xplayer>\n",
    "\n",
    "        <oplayer>\n",
    "            <group>players</group>\n",
    "            <token>o</token>\n",
    "            <act>1</act>\n",
    "        </oplayer>\n",
    "\n",
    "        <!-- actions -->\n",
    "        <placement>\n",
    "            <require>\n",
    "                <i>($target NAME) == empty</i>\n",
    "                <i>($caster STAT act) >= 2</i>\n",
    "            </require>\n",
    "            <effect>\n",
    "                <i>($caster STAT token) RECRUIT $target</i>\n",
    "                <i>$caster act -= 2</i>\n",
    "            </effect>\n",
    "        </placement>\n",
    "\n",
    "        <tick>\n",
    "            <effect>(ALL players) act += 1</effect>\n",
    "        </tick>\n",
    "\n",
    "    </entities>\n",
    "</udebs>\n",
    "\"\"\""
   ]
  },
  {
   "cell_type": "code",
   "execution_count": 7,
   "metadata": {},
   "outputs": [
    {
     "name": "stdout",
     "output_type": "stream",
     "text": [
      "INITIALIZING tictactoe\n",
      "Env time is now 0\n",
      "\n",
      "xplayer uses placement on (1, 1, 'map')\n",
      "x1 has been recruited\n",
      "x1 has moved to (1, 1, 'map')\n",
      "xplayer act changed by -2 is now 0\n",
      "\n",
      "xplayer uses placement on (0, 0, 'map')\n",
      "failed because ($caster STAT act) >= 2\n",
      "xplayer uses placement on x1\n",
      "failed because ($target NAME) == empty\n",
      "_  _  _  \n",
      "_  x1 _  \n",
      "_  _  _  \n"
     ]
    }
   ],
   "source": [
    "game = udebs.battleStart(game_config)\n",
    "\n",
    "game.castMove(\"xplayer\", (1,1), \"placement\")\n",
    "game.castMove(\"xplayer\", (0,0), \"placement\")\n",
    "game.castMove(\"xplayer\", (1,1), \"placement\")\n",
    "game.printMap()"
   ]
  },
  {
   "cell_type": "markdown",
   "metadata": {},
   "source": [
    "To force turn order and to prevent playing in non empty squares we need to the concept of a requirement. A requirement is a condition that must be true for the action to trigger. If the requirements are not met udebs will treat it as an illegal action and refuse to trigger the action.\n",
    "\n",
    "In this case we have defined a second attribute \"act\" that udebs will track. It is a numerical value or \"stat\". Then we added a requirement to our placement action saying that a player must have an act value of at least two in order to activate. Likewise we have also added a requirement that the placement be in an empty square. This will prevent a player from placeing in a spot that has already been played in.\n",
    "\n",
    "Note: the \\<i\\> tags are useful in effects and requirements when more than one action must be taken.\n",
    "\n",
    "As shown, the xplayer tries to play twice in a row. Since the player does not have enough act to move twice udebs refuses to perform the second action. In the third action the player tried to play in a square that already had been played in. Udebs also refused to act on this action."
   ]
  },
  {
   "cell_type": "markdown",
   "metadata": {},
   "source": [
    "We must also create a method for increasing a players act after every play. To do this we will use udebs built in timer.\n",
    "\n",
    "We defined a new action called tick which is a special action that is triggered every time the in game timer increments. This action will increment the act of every object in the group \"players\". To trigger the in game timer we must simply use the udebs method controlTime."
   ]
  },
  {
   "cell_type": "code",
   "execution_count": 8,
   "metadata": {},
   "outputs": [
    {
     "name": "stdout",
     "output_type": "stream",
     "text": [
      "INITIALIZING tictactoe\n",
      "Env time is now 0\n",
      "\n",
      "xplayer uses placement on (1, 1, 'map')\n",
      "x1 has been recruited\n",
      "x1 has moved to (1, 1, 'map')\n",
      "xplayer act changed by -2 is now 0\n",
      "\n",
      "Env time is now 1\n",
      "init tick\n",
      "oplayer act changed by 1 is now 2\n",
      "xplayer act changed by 1 is now 1\n",
      "\n",
      "oplayer uses placement on (0, 0, 'map')\n",
      "o1 has been recruited\n",
      "o1 has moved to (0, 0, 'map')\n",
      "oplayer act changed by -2 is now 0\n",
      "\n",
      "Env time is now 2\n",
      "init tick\n",
      "oplayer act changed by 1 is now 1\n",
      "xplayer act changed by 1 is now 2\n",
      "\n",
      "xplayer uses placement on (0, 1, 'map')\n",
      "x2 has been recruited\n",
      "x2 has moved to (0, 1, 'map')\n",
      "xplayer act changed by -2 is now 0\n",
      "\n",
      "o1 _  _  \n",
      "x2 x1 _  \n",
      "_  _  _  \n"
     ]
    }
   ],
   "source": [
    "game = udebs.battleStart(game_config)\n",
    "\n",
    "game.castMove(\"xplayer\", (1,1), \"placement\")\n",
    "game.controlTime()\n",
    "game.castMove(\"oplayer\", (0,0), \"placement\")\n",
    "game.controlTime()\n",
    "game.castMove(\"xplayer\", (0,1), \"placement\")\n",
    "game.printMap()"
   ]
  },
  {
   "cell_type": "markdown",
   "metadata": {},
   "source": [
    "Game Three: Inheritance and Immutability\n",
    "---"
   ]
  },
  {
   "cell_type": "markdown",
   "metadata": {},
   "source": [
    "Before we talk about detecting the end of the game let's talk a little more about engine details."
   ]
  },
  {
   "cell_type": "code",
   "execution_count": 9,
   "metadata": {},
   "outputs": [],
   "source": [
    "game_config = \"\"\"\n",
    "<udebs>\n",
    "    <config>\n",
    "        <name>tictactoe</name>\n",
    "        <immutable>True</immutable>\n",
    "    </config>\n",
    "\n",
    "    <map>\n",
    "        <dim>\n",
    "            <x>3</x>\n",
    "            <y>3</y>\n",
    "        </dim>\n",
    "    </map>\n",
    "\n",
    "    <definitions>\n",
    "        <strings>\n",
    "            <token />\n",
    "        </strings>\n",
    "        <stats>\n",
    "            <act />\n",
    "        </stats>\n",
    "    </definitions>\n",
    "\n",
    "    <entities>\n",
    "\n",
    "        <!-- tokens -->\n",
    "        <x />\n",
    "        <o />\n",
    "\n",
    "        <!-- players -->\n",
    "        <players />\n",
    "\n",
    "        <xplayer immutable=\"False\">\n",
    "            <group>players</group>\n",
    "            <token>x</token>\n",
    "            <act>2</act>\n",
    "        </xplayer>\n",
    "\n",
    "        <oplayer immutable=\"False\">\n",
    "            <group>players</group>\n",
    "            <token>o</token>\n",
    "            <act>1</act>\n",
    "        </oplayer>\n",
    "\n",
    "        <!-- actions -->\n",
    "        <force_order>\n",
    "            <require>($target NAME) == empty</require>\n",
    "            <effect>($caster STAT token) RECRUIT $target</effect>\n",
    "        </force_order>\n",
    "\n",
    "        <placement>\n",
    "            <group>force_order</group>\n",
    "            <require>($target NAME) == empty</require>\n",
    "            <effect>($caster STAT token) RECRUIT $target</effect>\n",
    "        </placement>\n",
    "\n",
    "        <tick>\n",
    "            <effect>(ALL players) act += 1</effect>\n",
    "        </tick>\n",
    "\n",
    "    </entities>\n",
    "</udebs>\n",
    "\"\"\""
   ]
  },
  {
   "cell_type": "code",
   "execution_count": 10,
   "metadata": {},
   "outputs": [
    {
     "name": "stdout",
     "output_type": "stream",
     "text": [
      "INITIALIZING tictactoe\n",
      "Env time is now 0\n",
      "\n",
      "xplayer uses placement on (1, 1, 'map')\n",
      "x has moved to (1, 1, 'map')\n",
      "x has moved to (1, 1, 'map')\n",
      "\n",
      "Env time is now 1\n",
      "init tick\n",
      "oplayer act changed by 1 is now 2\n",
      "xplayer act changed by 1 is now 3\n",
      "\n",
      "oplayer uses placement on (0, 0, 'map')\n",
      "o has moved to (0, 0, 'map')\n",
      "o has moved to (0, 0, 'map')\n",
      "\n",
      "Env time is now 2\n",
      "init tick\n",
      "oplayer act changed by 1 is now 3\n",
      "xplayer act changed by 1 is now 4\n",
      "\n",
      "xplayer uses placement on (0, 1, 'map')\n",
      "x has moved to (0, 1, 'map')\n",
      "x has moved to (0, 1, 'map')\n",
      "\n",
      "o _ _ \n",
      "x x _ \n",
      "_ _ _ \n"
     ]
    }
   ],
   "source": [
    "game = udebs.battleStart(game_config)\n",
    "\n",
    "game.castMove(\"xplayer\", (1,1), \"placement\")\n",
    "game.controlTime()\n",
    "game.castMove(\"oplayer\", (0,0), \"placement\")\n",
    "game.controlTime()\n",
    "game.castMove(\"xplayer\", (0,1), \"placement\")\n",
    "game.printMap()"
   ]
  },
  {
   "cell_type": "markdown",
   "metadata": {},
   "source": [
    "Some quick notes:\n",
    "\n",
    "By default udebs assumes that any object could hold some information about the current game space. So when we used placement udebs created a copy of the x tile and placed it in the map. We can change this behaviour by explicitly telling udebs that the x and y tiles will never hold gamestate by creating them as immutable objects.\n",
    "\n",
    "1. The default assumption for immutablity can be set in the udebs configuration block.\n",
    "2. Individual entities can be set using a tag when defining the entity.\n",
    "\n",
    "In our case, the only objects that hold state are the player objects. So we set all objects to immutable by default and explicitly set the player objects to mutable. This allows udebs to stop creating copies of the x and o tiles every time we place them.\n",
    "\n",
    "In this example the only effect is that the printMap method stops showing numbers next to the tiles. However, for treesearch and other more intense processes the speedup can be considerable."
   ]
  },
  {
   "cell_type": "markdown",
   "metadata": {},
   "source": [
    "Secondly:\n",
    "    \n",
    "Udebs objects inherit properties from their group. So if we wanted to create several actions that would exhaust a players turn, they can all inherit from the force_turn object instead of writting the same effects and requires constantly in them all."
   ]
  },
  {
   "cell_type": "markdown",
   "metadata": {},
   "source": [
    "Game Three: Game Loop and Detecting Completion\n",
    "---"
   ]
  },
  {
   "cell_type": "code",
   "execution_count": 11,
   "metadata": {},
   "outputs": [],
   "source": [
    "def ENDSTATE(state):\n",
    "    def rows(gameMap):\n",
    "        \"\"\"Iterate over possible win conditions in game map.\"\"\"\n",
    "        size = len(gameMap)\n",
    "\n",
    "        for i in range(size):\n",
    "            yield gameMap[i]\n",
    "            yield [j[i] for j in gameMap]\n",
    "\n",
    "        yield [gameMap[i][i] for i in range(size)]\n",
    "        yield [gameMap[size - 1 - i][i] for i in range(size)]\n",
    "\n",
    "    # Check for a win\n",
    "    tie = True\n",
    "    for i in rows(state.getMap().map):\n",
    "        value = set(i)\n",
    "        if \"empty\" in value:\n",
    "            tie = False\n",
    "        elif len(value) == 1:\n",
    "            if i[0] == \"x\":\n",
    "                return 1\n",
    "            elif i[0] == \"o\":\n",
    "                return -1\n",
    "\n",
    "    if tie:\n",
    "        return 0\n",
    "\n",
    "# Setup Udebs\n",
    "udebs.importFunction(ENDSTATE, {\"args\": [\"self\"]})"
   ]
  },
  {
   "cell_type": "code",
   "execution_count": 12,
   "metadata": {},
   "outputs": [],
   "source": [
    "game_config = \"\"\"\n",
    "<udebs>\n",
    "    <config>\n",
    "        <name>tictactoe</name>\n",
    "        <immutable>True</immutable>\n",
    "    </config>\n",
    "\n",
    "    <map>\n",
    "        <dim>\n",
    "            <x>3</x>\n",
    "            <y>3</y>\n",
    "        </dim>\n",
    "    </map>\n",
    "\n",
    "    <definitions>\n",
    "        <strings>\n",
    "            <token />\n",
    "        </strings>\n",
    "        <stats>\n",
    "            <act />\n",
    "        </stats>\n",
    "    </definitions>\n",
    "\n",
    "    <entities>\n",
    "\n",
    "        <!-- tokens -->\n",
    "        <x />\n",
    "        <o />\n",
    "\n",
    "        <!-- players -->\n",
    "        <players />\n",
    "\n",
    "        <xplayer immutable=\"False\">\n",
    "            <group>players</group>\n",
    "            <token>x</token>\n",
    "            <act>2</act>\n",
    "        </xplayer>\n",
    "\n",
    "        <oplayer immutable=\"False\">\n",
    "            <group>players</group>\n",
    "            <token>o</token>\n",
    "            <act>1</act>\n",
    "        </oplayer>\n",
    "\n",
    "        <!-- actions -->\n",
    "        <force_order>\n",
    "            <require>($target NAME) == empty</require>\n",
    "            <effect>($caster STAT token) RECRUIT $target</effect>\n",
    "        </force_order>\n",
    "\n",
    "        <placement>\n",
    "            <group>force_order</group>\n",
    "            <require>($target NAME) == empty</require>\n",
    "            <effect>($caster STAT token) RECRUIT $target</effect>\n",
    "        </placement>\n",
    "\n",
    "        <tick>\n",
    "            <effect>\n",
    "                <i>(ALL players) act += 1</i>\n",
    "                <i>INIT end</i>\n",
    "            </effect>\n",
    "        </tick>\n",
    "\n",
    "        <end>\n",
    "            <require>\n",
    "                <i>score = (ENDSTATE)</i>\n",
    "                <i>$score != None</i>\n",
    "            </require>\n",
    "            <effect>EXIT $score</effect>\n",
    "        </end>\n",
    "\n",
    "    </entities>\n",
    "</udebs>\n",
    "\"\"\""
   ]
  },
  {
   "cell_type": "code",
   "execution_count": 13,
   "metadata": {},
   "outputs": [
    {
     "name": "stdout",
     "output_type": "stream",
     "text": [
      "INITIALIZING tictactoe\n",
      "Env time is now 0\n",
      "\n",
      "xplayer uses placement on (1, 1, 'map')\n",
      "x has moved to (1, 1, 'map')\n",
      "x has moved to (1, 1, 'map')\n",
      "\n",
      "Env time is now 1\n",
      "init tick\n",
      "oplayer act changed by 1 is now 2\n",
      "xplayer act changed by 1 is now 3\n",
      "init end\n",
      "failed because $score != None\n",
      "\n",
      "oplayer uses placement on (0, 0, 'map')\n",
      "o has moved to (0, 0, 'map')\n",
      "o has moved to (0, 0, 'map')\n",
      "\n",
      "Env time is now 2\n",
      "init tick\n",
      "oplayer act changed by 1 is now 3\n",
      "xplayer act changed by 1 is now 4\n",
      "init end\n",
      "failed because $score != None\n",
      "\n",
      "xplayer uses placement on (0, 1, 'map')\n",
      "x has moved to (0, 1, 'map')\n",
      "x has moved to (0, 1, 'map')\n",
      "\n",
      "Env time is now 3\n",
      "init tick\n",
      "oplayer act changed by 1 is now 4\n",
      "xplayer act changed by 1 is now 5\n",
      "init end\n",
      "failed because $score != None\n",
      "\n",
      "oplayer uses placement on (0, 2, 'map')\n",
      "o has moved to (0, 2, 'map')\n",
      "o has moved to (0, 2, 'map')\n",
      "\n",
      "Env time is now 4\n",
      "init tick\n",
      "oplayer act changed by 1 is now 5\n",
      "xplayer act changed by 1 is now 6\n",
      "init end\n",
      "failed because $score != None\n",
      "\n",
      "xplayer uses placement on (2, 1, 'map')\n",
      "x has moved to (2, 1, 'map')\n",
      "x has moved to (2, 1, 'map')\n",
      "\n",
      "Env time is now 5\n",
      "init tick\n",
      "oplayer act changed by 1 is now 6\n",
      "xplayer act changed by 1 is now 7\n",
      "init end\n",
      "Exit requested with value of: 1\n",
      "\n",
      "o _ _ \n",
      "x x x \n",
      "o _ _ \n"
     ]
    }
   ],
   "source": [
    "game = udebs.battleStart(game_config)\n",
    "\n",
    "game.castMove(\"xplayer\", (1,1), \"placement\")\n",
    "game.controlTime()\n",
    "game.castMove(\"oplayer\", (0,0), \"placement\")\n",
    "game.controlTime()\n",
    "game.castMove(\"xplayer\", (0,1), \"placement\")\n",
    "game.controlTime()\n",
    "game.castMove(\"oplayer\", (0,2), \"placement\")\n",
    "game.controlTime()\n",
    "game.castMove(\"xplayer\", (2,1), \"placement\")\n",
    "game.controlTime()\n",
    "game.printMap()"
   ]
  },
  {
   "cell_type": "markdown",
   "metadata": {},
   "source": [
    "The game records that the game has ended by setting the 'cont' attribute on the main game object to false and setting the 'value' attribute to the optional argument to EXIT. For now nothing else really changes about the game state. Actions will still work because we haven't told the system that it is illegal to place token after the game finishes. \n",
    "\n",
    "That is it for now however there are a ton of other things that you can do with the udebs system. \n",
    "\n",
    "- Create a \"reset\" object that will return the game to it's origional state using the resetState state method.\n",
    "- Easily revert actions or reset to a previous timestamp using the getRevert funtion.\n",
    "- Use the \"treesearch\" submodule to parse all possible legal gamestates.\n",
    "- Automatically increment the in game timer using the gameLoop method.\n",
    "\n",
    "Take a look at some of the included examples for ideas. See documentation for complete list of methods callable using udebs configurations."
   ]
  },
  {
   "cell_type": "code",
   "execution_count": null,
   "metadata": {},
   "outputs": [],
   "source": []
  }
 ],
 "metadata": {
  "kernelspec": {
   "display_name": "Python 3",
   "language": "python",
   "name": "python3"
  },
  "language_info": {
   "codemirror_mode": {
    "name": "ipython",
    "version": 3
   },
   "file_extension": ".py",
   "mimetype": "text/x-python",
   "name": "python",
   "nbconvert_exporter": "python",
   "pygments_lexer": "ipython3",
   "version": "3.8.2"
  }
 },
 "nbformat": 4,
 "nbformat_minor": 4
}
