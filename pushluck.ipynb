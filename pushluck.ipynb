{
 "cells": [
  {
   "cell_type": "code",
   "execution_count": null,
   "metadata": {},
   "outputs": [],
   "source": [
    "import udebs\n",
    "from collections import Counter\n",
    "import copy\n",
    "from functools import partial\n",
    "\n",
    "class Pushluck(udebs.State):\n",
    "    def pState(self, s):\n",
    "        hand = s.getStat(\"hand\", \"cards\")\n",
    "        d = Counter(hand)\n",
    "        remaining = s.getStat(\"hand\", \"draws\") - len(hand)\n",
    "        return (d[\"map\"], d[\"dmap\"], d[\"chest\"], d[\"key\"], d[\"boat\"], d[\"skull\"], remaining)\n",
    "\n",
    "    def legalMoves(self, s):\n",
    "        d = Counter(s.getStat(\"deck\", \"cards\"))\n",
    "        tot = sum(d.values())\n",
    "        for card in d:\n",
    "            yield (\"hand\", card, \"drawsingle\", d[card] / tot)\n",
    "\n",
    "    def endState(self, s):\n",
    "        h = partial(s.getStat, \"hand\")\n",
    "        if h(\"skulls\") >= h(\"lives\"):\n",
    "            return 0\n",
    "\n",
    "        if h(\"draws\") >= len(h(\"cards\")):\n",
    "            return None\n",
    "\n",
    "        return h(\"score\")\n",
    "    \n",
    "def ev(state, storage=None):\n",
    "    new_state = copy.deepcopy(state)\n",
    "    obj = Pushluck(new_state, storage=storage, algorithm=\"expectationValue\")\n",
    "    result = obj.result(par=4)\n",
    "    return result.value - state.getStat(\"hand\", \"score\"), obj.storage\n",
    "\n",
    "storage = None"
   ]
  },
  {
   "cell_type": "code",
   "execution_count": null,
   "metadata": {},
   "outputs": [],
   "source": [
    "main_map = udebs.battleStart(\"xml/pushluck.xml\")"
   ]
  },
  {
   "cell_type": "code",
   "execution_count": null,
   "metadata": {},
   "outputs": [],
   "source": [
    "main_map.controlTime()"
   ]
  },
  {
   "cell_type": "code",
   "execution_count": null,
   "metadata": {},
   "outputs": [],
   "source": [
    "result, storage = ev(main_map, storage)\n",
    "print(result)"
   ]
  },
  {
   "cell_type": "code",
   "execution_count": null,
   "metadata": {},
   "outputs": [],
   "source": []
  }
 ],
 "metadata": {
  "kernelspec": {
   "display_name": "Python 3",
   "language": "python",
   "name": "python3"
  },
  "language_info": {
   "codemirror_mode": {
    "name": "ipython",
    "version": 3
   },
   "file_extension": ".py",
   "mimetype": "text/x-python",
   "name": "python",
   "nbconvert_exporter": "python",
   "pygments_lexer": "ipython3",
   "version": "3.7.3"
  }
 },
 "nbformat": 4,
 "nbformat_minor": 2
}
